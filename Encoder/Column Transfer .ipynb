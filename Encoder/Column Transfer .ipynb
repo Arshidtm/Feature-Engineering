{
 "cells": [
  {
   "cell_type": "code",
   "execution_count": 1,
   "id": "4016be7a-b8d4-4dd7-9253-32e8bd4fb65c",
   "metadata": {},
   "outputs": [],
   "source": [
    "import numpy as np \n",
    "import pandas as pd \n"
   ]
  },
  {
   "cell_type": "code",
   "execution_count": 41,
   "id": "8fd5ffaa-4f1a-4371-93f1-3283c8193852",
   "metadata": {},
   "outputs": [
    {
     "data": {
      "text/html": [
       "<div>\n",
       "<style scoped>\n",
       "    .dataframe tbody tr th:only-of-type {\n",
       "        vertical-align: middle;\n",
       "    }\n",
       "\n",
       "    .dataframe tbody tr th {\n",
       "        vertical-align: top;\n",
       "    }\n",
       "\n",
       "    .dataframe thead th {\n",
       "        text-align: right;\n",
       "    }\n",
       "</style>\n",
       "<table border=\"1\" class=\"dataframe\">\n",
       "  <thead>\n",
       "    <tr style=\"text-align: right;\">\n",
       "      <th></th>\n",
       "      <th>age</th>\n",
       "      <th>gender</th>\n",
       "      <th>fever</th>\n",
       "      <th>cough</th>\n",
       "      <th>city</th>\n",
       "      <th>has_covid</th>\n",
       "    </tr>\n",
       "  </thead>\n",
       "  <tbody>\n",
       "    <tr>\n",
       "      <th>0</th>\n",
       "      <td>60</td>\n",
       "      <td>Male</td>\n",
       "      <td>103.0</td>\n",
       "      <td>Mild</td>\n",
       "      <td>Kolkata</td>\n",
       "      <td>No</td>\n",
       "    </tr>\n",
       "    <tr>\n",
       "      <th>1</th>\n",
       "      <td>27</td>\n",
       "      <td>Male</td>\n",
       "      <td>100.0</td>\n",
       "      <td>Mild</td>\n",
       "      <td>Delhi</td>\n",
       "      <td>Yes</td>\n",
       "    </tr>\n",
       "    <tr>\n",
       "      <th>2</th>\n",
       "      <td>42</td>\n",
       "      <td>Male</td>\n",
       "      <td>101.0</td>\n",
       "      <td>Mild</td>\n",
       "      <td>Delhi</td>\n",
       "      <td>No</td>\n",
       "    </tr>\n",
       "    <tr>\n",
       "      <th>3</th>\n",
       "      <td>31</td>\n",
       "      <td>Female</td>\n",
       "      <td>98.0</td>\n",
       "      <td>Mild</td>\n",
       "      <td>Kolkata</td>\n",
       "      <td>No</td>\n",
       "    </tr>\n",
       "    <tr>\n",
       "      <th>4</th>\n",
       "      <td>65</td>\n",
       "      <td>Female</td>\n",
       "      <td>101.0</td>\n",
       "      <td>Mild</td>\n",
       "      <td>Mumbai</td>\n",
       "      <td>No</td>\n",
       "    </tr>\n",
       "  </tbody>\n",
       "</table>\n",
       "</div>"
      ],
      "text/plain": [
       "   age  gender  fever cough     city has_covid\n",
       "0   60    Male  103.0  Mild  Kolkata        No\n",
       "1   27    Male  100.0  Mild    Delhi       Yes\n",
       "2   42    Male  101.0  Mild    Delhi        No\n",
       "3   31  Female   98.0  Mild  Kolkata        No\n",
       "4   65  Female  101.0  Mild   Mumbai        No"
      ]
     },
     "execution_count": 41,
     "metadata": {},
     "output_type": "execute_result"
    }
   ],
   "source": [
    "df=pd.read_csv(r'covid_toy.csv')\n",
    "df.head()"
   ]
  },
  {
   "cell_type": "code",
   "execution_count": 43,
   "id": "c3246d72-4b5a-455c-964b-39dc5de0b2bd",
   "metadata": {},
   "outputs": [
    {
     "data": {
      "text/plain": [
       "city\n",
       "Kolkata      32\n",
       "Bangalore    30\n",
       "Delhi        22\n",
       "Mumbai       16\n",
       "Name: count, dtype: int64"
      ]
     },
     "execution_count": 43,
     "metadata": {},
     "output_type": "execute_result"
    }
   ],
   "source": [
    "df['city'].value_counts()"
   ]
  },
  {
   "cell_type": "code",
   "execution_count": 45,
   "id": "9e08ee29-f8d6-46d2-98de-7807f2a9f456",
   "metadata": {},
   "outputs": [
    {
     "data": {
      "text/plain": [
       "gender\n",
       "Female    59\n",
       "Male      41\n",
       "Name: count, dtype: int64"
      ]
     },
     "execution_count": 45,
     "metadata": {},
     "output_type": "execute_result"
    }
   ],
   "source": [
    "df['gender'].value_counts()"
   ]
  },
  {
   "cell_type": "code",
   "execution_count": 47,
   "id": "da930413-8310-461c-818d-d57efeecf68f",
   "metadata": {},
   "outputs": [
    {
     "data": {
      "text/plain": [
       "age           0\n",
       "gender        0\n",
       "fever        10\n",
       "cough         0\n",
       "city          0\n",
       "has_covid     0\n",
       "dtype: int64"
      ]
     },
     "execution_count": 47,
     "metadata": {},
     "output_type": "execute_result"
    }
   ],
   "source": [
    "df.isna().sum()"
   ]
  },
  {
   "cell_type": "code",
   "execution_count": 49,
   "id": "1f48c6f2-de96-402d-8845-bce29a14e9e1",
   "metadata": {},
   "outputs": [
    {
     "data": {
      "text/plain": [
       "cough\n",
       "Mild      62\n",
       "Strong    38\n",
       "Name: count, dtype: int64"
      ]
     },
     "execution_count": 49,
     "metadata": {},
     "output_type": "execute_result"
    }
   ],
   "source": [
    "df['cough'].value_counts()"
   ]
  },
  {
   "cell_type": "code",
   "execution_count": 51,
   "id": "c67c7ad7-c495-4d6c-a3cf-336dd0e1ce8a",
   "metadata": {},
   "outputs": [],
   "source": [
    "from sklearn.preprocessing import OrdinalEncoder,LabelEncoder,OneHotEncoder\n",
    "from sklearn.model_selection import train_test_split"
   ]
  },
  {
   "cell_type": "code",
   "execution_count": 53,
   "id": "670b2199-d78b-4652-a4b3-a93868ce9521",
   "metadata": {},
   "outputs": [],
   "source": [
    "le=LabelEncoder()\n",
    "df['has_covid']=le.fit_transform(df['has_covid'])"
   ]
  },
  {
   "cell_type": "code",
   "execution_count": 55,
   "id": "c30e03bc-ea7f-484c-a0bc-1cf37f8de797",
   "metadata": {},
   "outputs": [
    {
     "data": {
      "text/html": [
       "<div>\n",
       "<style scoped>\n",
       "    .dataframe tbody tr th:only-of-type {\n",
       "        vertical-align: middle;\n",
       "    }\n",
       "\n",
       "    .dataframe tbody tr th {\n",
       "        vertical-align: top;\n",
       "    }\n",
       "\n",
       "    .dataframe thead th {\n",
       "        text-align: right;\n",
       "    }\n",
       "</style>\n",
       "<table border=\"1\" class=\"dataframe\">\n",
       "  <thead>\n",
       "    <tr style=\"text-align: right;\">\n",
       "      <th></th>\n",
       "      <th>age</th>\n",
       "      <th>gender</th>\n",
       "      <th>fever</th>\n",
       "      <th>cough</th>\n",
       "      <th>city</th>\n",
       "      <th>has_covid</th>\n",
       "    </tr>\n",
       "  </thead>\n",
       "  <tbody>\n",
       "    <tr>\n",
       "      <th>0</th>\n",
       "      <td>60</td>\n",
       "      <td>Male</td>\n",
       "      <td>103.0</td>\n",
       "      <td>Mild</td>\n",
       "      <td>Kolkata</td>\n",
       "      <td>0</td>\n",
       "    </tr>\n",
       "    <tr>\n",
       "      <th>1</th>\n",
       "      <td>27</td>\n",
       "      <td>Male</td>\n",
       "      <td>100.0</td>\n",
       "      <td>Mild</td>\n",
       "      <td>Delhi</td>\n",
       "      <td>1</td>\n",
       "    </tr>\n",
       "    <tr>\n",
       "      <th>2</th>\n",
       "      <td>42</td>\n",
       "      <td>Male</td>\n",
       "      <td>101.0</td>\n",
       "      <td>Mild</td>\n",
       "      <td>Delhi</td>\n",
       "      <td>0</td>\n",
       "    </tr>\n",
       "    <tr>\n",
       "      <th>3</th>\n",
       "      <td>31</td>\n",
       "      <td>Female</td>\n",
       "      <td>98.0</td>\n",
       "      <td>Mild</td>\n",
       "      <td>Kolkata</td>\n",
       "      <td>0</td>\n",
       "    </tr>\n",
       "    <tr>\n",
       "      <th>4</th>\n",
       "      <td>65</td>\n",
       "      <td>Female</td>\n",
       "      <td>101.0</td>\n",
       "      <td>Mild</td>\n",
       "      <td>Mumbai</td>\n",
       "      <td>0</td>\n",
       "    </tr>\n",
       "    <tr>\n",
       "      <th>...</th>\n",
       "      <td>...</td>\n",
       "      <td>...</td>\n",
       "      <td>...</td>\n",
       "      <td>...</td>\n",
       "      <td>...</td>\n",
       "      <td>...</td>\n",
       "    </tr>\n",
       "    <tr>\n",
       "      <th>95</th>\n",
       "      <td>12</td>\n",
       "      <td>Female</td>\n",
       "      <td>104.0</td>\n",
       "      <td>Mild</td>\n",
       "      <td>Bangalore</td>\n",
       "      <td>0</td>\n",
       "    </tr>\n",
       "    <tr>\n",
       "      <th>96</th>\n",
       "      <td>51</td>\n",
       "      <td>Female</td>\n",
       "      <td>101.0</td>\n",
       "      <td>Strong</td>\n",
       "      <td>Kolkata</td>\n",
       "      <td>1</td>\n",
       "    </tr>\n",
       "    <tr>\n",
       "      <th>97</th>\n",
       "      <td>20</td>\n",
       "      <td>Female</td>\n",
       "      <td>101.0</td>\n",
       "      <td>Mild</td>\n",
       "      <td>Bangalore</td>\n",
       "      <td>0</td>\n",
       "    </tr>\n",
       "    <tr>\n",
       "      <th>98</th>\n",
       "      <td>5</td>\n",
       "      <td>Female</td>\n",
       "      <td>98.0</td>\n",
       "      <td>Strong</td>\n",
       "      <td>Mumbai</td>\n",
       "      <td>0</td>\n",
       "    </tr>\n",
       "    <tr>\n",
       "      <th>99</th>\n",
       "      <td>10</td>\n",
       "      <td>Female</td>\n",
       "      <td>98.0</td>\n",
       "      <td>Strong</td>\n",
       "      <td>Kolkata</td>\n",
       "      <td>1</td>\n",
       "    </tr>\n",
       "  </tbody>\n",
       "</table>\n",
       "<p>100 rows × 6 columns</p>\n",
       "</div>"
      ],
      "text/plain": [
       "    age  gender  fever   cough       city  has_covid\n",
       "0    60    Male  103.0    Mild    Kolkata          0\n",
       "1    27    Male  100.0    Mild      Delhi          1\n",
       "2    42    Male  101.0    Mild      Delhi          0\n",
       "3    31  Female   98.0    Mild    Kolkata          0\n",
       "4    65  Female  101.0    Mild     Mumbai          0\n",
       "..  ...     ...    ...     ...        ...        ...\n",
       "95   12  Female  104.0    Mild  Bangalore          0\n",
       "96   51  Female  101.0  Strong    Kolkata          1\n",
       "97   20  Female  101.0    Mild  Bangalore          0\n",
       "98    5  Female   98.0  Strong     Mumbai          0\n",
       "99   10  Female   98.0  Strong    Kolkata          1\n",
       "\n",
       "[100 rows x 6 columns]"
      ]
     },
     "execution_count": 55,
     "metadata": {},
     "output_type": "execute_result"
    }
   ],
   "source": [
    "df"
   ]
  },
  {
   "cell_type": "code",
   "execution_count": 57,
   "id": "f55f5ac2-8153-4de5-8993-e46ff4cb90da",
   "metadata": {},
   "outputs": [],
   "source": [
    "oe=OrdinalEncoder(categories=[['Mild','Strong']],dtype=np.int32)"
   ]
  },
  {
   "cell_type": "code",
   "execution_count": 59,
   "id": "af41cefa-4e11-4e55-ab06-dae2af708ef2",
   "metadata": {},
   "outputs": [
    {
     "data": {
      "text/html": [
       "<div>\n",
       "<style scoped>\n",
       "    .dataframe tbody tr th:only-of-type {\n",
       "        vertical-align: middle;\n",
       "    }\n",
       "\n",
       "    .dataframe tbody tr th {\n",
       "        vertical-align: top;\n",
       "    }\n",
       "\n",
       "    .dataframe thead th {\n",
       "        text-align: right;\n",
       "    }\n",
       "</style>\n",
       "<table border=\"1\" class=\"dataframe\">\n",
       "  <thead>\n",
       "    <tr style=\"text-align: right;\">\n",
       "      <th></th>\n",
       "      <th>age</th>\n",
       "      <th>gender</th>\n",
       "      <th>fever</th>\n",
       "      <th>cough</th>\n",
       "      <th>city</th>\n",
       "      <th>has_covid</th>\n",
       "    </tr>\n",
       "  </thead>\n",
       "  <tbody>\n",
       "    <tr>\n",
       "      <th>85</th>\n",
       "      <td>16</td>\n",
       "      <td>Female</td>\n",
       "      <td>103.0</td>\n",
       "      <td>0</td>\n",
       "      <td>Bangalore</td>\n",
       "      <td>1</td>\n",
       "    </tr>\n",
       "    <tr>\n",
       "      <th>68</th>\n",
       "      <td>54</td>\n",
       "      <td>Female</td>\n",
       "      <td>104.0</td>\n",
       "      <td>1</td>\n",
       "      <td>Kolkata</td>\n",
       "      <td>0</td>\n",
       "    </tr>\n",
       "    <tr>\n",
       "      <th>38</th>\n",
       "      <td>49</td>\n",
       "      <td>Female</td>\n",
       "      <td>101.0</td>\n",
       "      <td>0</td>\n",
       "      <td>Delhi</td>\n",
       "      <td>1</td>\n",
       "    </tr>\n",
       "    <tr>\n",
       "      <th>8</th>\n",
       "      <td>19</td>\n",
       "      <td>Female</td>\n",
       "      <td>100.0</td>\n",
       "      <td>1</td>\n",
       "      <td>Bangalore</td>\n",
       "      <td>0</td>\n",
       "    </tr>\n",
       "    <tr>\n",
       "      <th>32</th>\n",
       "      <td>34</td>\n",
       "      <td>Female</td>\n",
       "      <td>101.0</td>\n",
       "      <td>1</td>\n",
       "      <td>Delhi</td>\n",
       "      <td>1</td>\n",
       "    </tr>\n",
       "  </tbody>\n",
       "</table>\n",
       "</div>"
      ],
      "text/plain": [
       "    age  gender  fever  cough       city  has_covid\n",
       "85   16  Female  103.0      0  Bangalore          1\n",
       "68   54  Female  104.0      1    Kolkata          0\n",
       "38   49  Female  101.0      0      Delhi          1\n",
       "8    19  Female  100.0      1  Bangalore          0\n",
       "32   34  Female  101.0      1      Delhi          1"
      ]
     },
     "execution_count": 59,
     "metadata": {},
     "output_type": "execute_result"
    }
   ],
   "source": [
    "df['cough']=oe.fit_transform(df[['cough']])\n",
    "df.sample(5)"
   ]
  },
  {
   "cell_type": "code",
   "execution_count": 61,
   "id": "7976762a-beda-498c-8fcc-371e6f7952ef",
   "metadata": {},
   "outputs": [],
   "source": [
    "X_train,X_test,y_train,y_test=train_test_split(df.drop(columns=['has_covid']),df['has_covid'],test_size=0.2,random_state=42)"
   ]
  },
  {
   "cell_type": "code",
   "execution_count": 75,
   "id": "c68204f1-0e1b-441c-a159-784685b436ee",
   "metadata": {},
   "outputs": [
    {
     "data": {
      "text/plain": [
       "(80, 5)"
      ]
     },
     "execution_count": 75,
     "metadata": {},
     "output_type": "execute_result"
    }
   ],
   "source": [
    "# impute fever column using SimpleImputer \n",
    "from sklearn.impute import SimpleImputer\n",
    "X_train.shape"
   ]
  },
  {
   "cell_type": "code",
   "execution_count": 67,
   "id": "68e5767a-0121-4a50-a884-d9e9d6f79fd6",
   "metadata": {},
   "outputs": [],
   "source": [
    "si=SimpleImputer()\n",
    "X_train_fever=si.fit_transform(X_train[['fever']])\n",
    "X_test_fever=si.fit_transform(X_test[['fever']])"
   ]
  },
  {
   "cell_type": "code",
   "execution_count": 77,
   "id": "f7b13768-18ea-4422-b62d-9fd1acd7a2e3",
   "metadata": {},
   "outputs": [
    {
     "data": {
      "text/plain": [
       "array([[101.],\n",
       "       [100.],\n",
       "       [100.],\n",
       "       [100.],\n",
       "       [103.],\n",
       "       [103.],\n",
       "       [102.],\n",
       "       [101.],\n",
       "       [101.],\n",
       "       [101.],\n",
       "       [ 98.],\n",
       "       [104.],\n",
       "       [103.],\n",
       "       [104.],\n",
       "       [100.],\n",
       "       [101.],\n",
       "       [104.],\n",
       "       [102.],\n",
       "       [102.],\n",
       "       [103.],\n",
       "       [104.],\n",
       "       [102.],\n",
       "       [101.],\n",
       "       [104.],\n",
       "       [102.],\n",
       "       [101.],\n",
       "       [ 99.],\n",
       "       [101.],\n",
       "       [104.],\n",
       "       [102.],\n",
       "       [100.],\n",
       "       [ 98.],\n",
       "       [ 98.],\n",
       "       [101.],\n",
       "       [100.],\n",
       "       [100.],\n",
       "       [101.],\n",
       "       [104.],\n",
       "       [101.],\n",
       "       [103.],\n",
       "       [101.],\n",
       "       [ 98.],\n",
       "       [ 99.],\n",
       "       [ 99.],\n",
       "       [101.],\n",
       "       [ 99.],\n",
       "       [101.],\n",
       "       [104.],\n",
       "       [ 98.],\n",
       "       [101.],\n",
       "       [103.],\n",
       "       [101.],\n",
       "       [ 98.],\n",
       "       [ 99.],\n",
       "       [ 98.],\n",
       "       [ 99.],\n",
       "       [102.],\n",
       "       [101.],\n",
       "       [101.],\n",
       "       [104.],\n",
       "       [100.],\n",
       "       [ 98.],\n",
       "       [100.],\n",
       "       [101.],\n",
       "       [100.],\n",
       "       [100.],\n",
       "       [ 98.],\n",
       "       [101.],\n",
       "       [ 98.],\n",
       "       [101.],\n",
       "       [101.],\n",
       "       [104.],\n",
       "       [104.],\n",
       "       [ 98.],\n",
       "       [ 98.],\n",
       "       [102.],\n",
       "       [104.],\n",
       "       [104.],\n",
       "       [102.],\n",
       "       [100.]])"
      ]
     },
     "execution_count": 77,
     "metadata": {},
     "output_type": "execute_result"
    }
   ],
   "source": [
    "X_train_fever"
   ]
  },
  {
   "cell_type": "code",
   "execution_count": 79,
   "id": "515a549b-01a6-46cb-bf94-91e64b607964",
   "metadata": {},
   "outputs": [],
   "source": [
    "# onehotencoding im gender and city \n",
    "ohe=OneHotEncoder(sparse_output=False,drop='first')\n",
    "X_train_gender_city=ohe.fit_transform(X_train[['gender','city']])\n",
    "X_test_gender_city=ohe.fit_transform(X_test[['gender','city']])"
   ]
  },
  {
   "cell_type": "code",
   "execution_count": 100,
   "id": "664dc3f9-e37a-4da3-8e82-a41fb749d36b",
   "metadata": {},
   "outputs": [
    {
     "data": {
      "text/plain": [
       "(80, 1)"
      ]
     },
     "execution_count": 100,
     "metadata": {},
     "output_type": "execute_result"
    }
   ],
   "source": [
    "# Extracting age \n",
    "X_train_Age=X_train.drop(columns=['gender','fever','cough','city']).values\n",
    "X_train_Age.shape"
   ]
  },
  {
   "cell_type": "code",
   "execution_count": 102,
   "id": "4244c26c-e1bc-48b5-8d1b-ed584617af5b",
   "metadata": {},
   "outputs": [
    {
     "data": {
      "text/plain": [
       "(20, 1)"
      ]
     },
     "execution_count": 102,
     "metadata": {},
     "output_type": "execute_result"
    }
   ],
   "source": [
    "X_test_Age=X_test.drop(columns=['gender','fever','cough','city']).values\n",
    "X_test_Age.shape"
   ]
  },
  {
   "cell_type": "code",
   "execution_count": 112,
   "id": "a6b82e32-cb2a-4356-ab63-ffd63e749ed0",
   "metadata": {},
   "outputs": [
    {
     "data": {
      "text/plain": [
       "(80, 1)"
      ]
     },
     "execution_count": 112,
     "metadata": {},
     "output_type": "execute_result"
    }
   ],
   "source": [
    "X_train_Cough=X_train.drop(columns=['gender','fever','age','city']).values\n",
    "X_train_Cough.shape"
   ]
  },
  {
   "cell_type": "code",
   "execution_count": 104,
   "id": "e6ffde3e-f731-415e-af2f-dfb91b14ab56",
   "metadata": {},
   "outputs": [
    {
     "data": {
      "text/plain": [
       "(20, 1)"
      ]
     },
     "execution_count": 104,
     "metadata": {},
     "output_type": "execute_result"
    }
   ],
   "source": [
    "X_test_Cough=X_test.drop(columns=['gender','fever','age','city']).values\n",
    "X_test_Cough.shape"
   ]
  },
  {
   "cell_type": "code",
   "execution_count": 120,
   "id": "d80092b1-b341-445e-802d-74624808814d",
   "metadata": {},
   "outputs": [
    {
     "data": {
      "text/plain": [
       "(80, 7)"
      ]
     },
     "execution_count": 120,
     "metadata": {},
     "output_type": "execute_result"
    }
   ],
   "source": [
    "X_train_transformed=np.concatenate((X_train_Age,X_train_fever,X_train_gender_city,X_train_Cough),axis=1)\n",
    "X_train_transformed.shape"
   ]
  },
  {
   "cell_type": "code",
   "execution_count": 118,
   "id": "b94bd8a7-7f5c-4345-a539-30be44474f5e",
   "metadata": {},
   "outputs": [
    {
     "data": {
      "text/plain": [
       "(20, 7)"
      ]
     },
     "execution_count": 118,
     "metadata": {},
     "output_type": "execute_result"
    }
   ],
   "source": [
    "X_test_transformed=np.concatenate((X_test_Age,X_test_fever,X_test_gender_city,X_test_Cough),axis=1)\n",
    "X_test_transformed.shape"
   ]
  },
  {
   "cell_type": "markdown",
   "id": "b6717921-ab29-450d-82a9-3adc7a788afd",
   "metadata": {},
   "source": [
    "## Column Transformer \n"
   ]
  },
  {
   "cell_type": "code",
   "execution_count": 123,
   "id": "c22292bc-b516-4ed0-b20e-71ffde5b576d",
   "metadata": {},
   "outputs": [],
   "source": [
    "from sklearn.compose import ColumnTransformer"
   ]
  },
  {
   "cell_type": "code",
   "execution_count": 129,
   "id": "67e72754-2884-4d4b-b3de-f965355348d3",
   "metadata": {},
   "outputs": [],
   "source": [
    "transformer=ColumnTransformer(transformers=[\n",
    "    ('tnf1',SimpleImputer(),['fever']),\n",
    "    # ('tnf2',OrdinalEncoder(categories=[['Mild','Strong']]),['cough']), already done \n",
    "    ('tnf3',OneHotEncoder(sparse_output=False,drop='first'),['gender','city'])\n",
    "],remainder='passthrough')"
   ]
  },
  {
   "cell_type": "code",
   "execution_count": 133,
   "id": "da6cc3e8-3b95-42de-879f-ab711e456a9b",
   "metadata": {},
   "outputs": [
    {
     "data": {
      "text/plain": [
       "(80, 7)"
      ]
     },
     "execution_count": 133,
     "metadata": {},
     "output_type": "execute_result"
    }
   ],
   "source": [
    "transformer.fit_transform(X_train).shape"
   ]
  },
  {
   "cell_type": "code",
   "execution_count": 137,
   "id": "b35972f7-dfb9-4cd1-bb48-2bd9c59a17c7",
   "metadata": {},
   "outputs": [
    {
     "data": {
      "text/plain": [
       "(20, 7)"
      ]
     },
     "execution_count": 137,
     "metadata": {},
     "output_type": "execute_result"
    }
   ],
   "source": [
    "transformer.transform(X_test).shape"
   ]
  },
  {
   "cell_type": "code",
   "execution_count": null,
   "id": "3b2c06cc-c6f9-4442-b7d8-64286a8e12d0",
   "metadata": {},
   "outputs": [],
   "source": []
  }
 ],
 "metadata": {
  "kernelspec": {
   "display_name": "MyNewVenv",
   "language": "python",
   "name": "mynewvenv"
  },
  "language_info": {
   "codemirror_mode": {
    "name": "ipython",
    "version": 3
   },
   "file_extension": ".py",
   "mimetype": "text/x-python",
   "name": "python",
   "nbconvert_exporter": "python",
   "pygments_lexer": "ipython3",
   "version": "3.12.4"
  }
 },
 "nbformat": 4,
 "nbformat_minor": 5
}
