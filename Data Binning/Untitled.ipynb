{
 "cells": [
  {
   "cell_type": "code",
   "execution_count": null,
   "id": "dab53e2d-bfb9-40ea-a312-7ba21c798cc5",
   "metadata": {},
   "outputs": [],
   "source": []
  }
 ],
 "metadata": {
  "kernelspec": {
   "display_name": "",
   "name": ""
  },
  "language_info": {
   "name": ""
  }
 },
 "nbformat": 4,
 "nbformat_minor": 5
}
